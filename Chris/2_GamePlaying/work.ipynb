{
 "cells": [
  {
   "cell_type": "code",
   "execution_count": 3,
   "metadata": {
    "collapsed": true
   },
   "outputs": [],
   "source": [
    "# Imports\n",
    "\n",
    "from copy import deepcopy"
   ]
  },
  {
   "cell_type": "code",
   "execution_count": 4,
   "metadata": {
    "collapsed": true
   },
   "outputs": [],
   "source": [
    "# Vars\n",
    "\n"
   ]
  },
  {
   "cell_type": "code",
   "execution_count": 35,
   "metadata": {},
   "outputs": [],
   "source": [
    "class GameState:\n",
    "\n",
    "    def __init__(self):\n",
    "        self.X = 3\n",
    "        self.Y = 2\n",
    "        \n",
    "        # unowned square: -1, My position: 0, Opponent position: 1, used square: 2 \n",
    "        self.board = {(x,y): -1 for x in range(self.X) for y in range(self.Y)}\n",
    "        self.turn = 0\n",
    "        self.oppPrevMove = (self.X-1,self.Y-1)\n",
    "        self.prevMove = (-1,-1)\n",
    "        self.board[self.oppPrevMove] = 1\n",
    "    \n",
    "    \n",
    "    def forecast_move(self, move):\n",
    "        new = deepcopy(self)\n",
    "        \n",
    "        if(new.prevMove != (-1,-1)):\n",
    "            new.board[new.prevMove] = 2\n",
    "            \n",
    "        new.board[move] = new.turn\n",
    "        new.turn = 1 - new.turn #toggle player 0/1\n",
    "        new.prevMove = new.oppPrevMove\n",
    "        new.oppPrevMove = move\n",
    "        \n",
    "        return new\n",
    "    \n",
    "    def get_legal_moves(self):\n",
    "        \"\"\" Return a list of all legal moves available to the\n",
    "        active player.  Each player should get a list of all\n",
    "        empty spaces on the board on their first move, and\n",
    "        otherwise they should get a list of all open spaces\n",
    "        in a straight line along any row, column or diagonal\n",
    "        from their current position. (Players CANNOT move\n",
    "        through obstacles or blocked squares.) Moves should\n",
    "        be a pair of integers in (column, row) order specifying\n",
    "        the zero-indexed coordinates on the board.\n",
    "        \"\"\"\n",
    "        legalMoves = []\n",
    "        \n",
    "        # Check Horizontal\n",
    "        for x in range(self.X):\n",
    "            \n",
    "        pass"
   ]
  },
  {
   "cell_type": "code",
   "execution_count": 36,
   "metadata": {
    "collapsed": true
   },
   "outputs": [],
   "source": [
    "# Functions\n",
    "\n"
   ]
  },
  {
   "cell_type": "code",
   "execution_count": 41,
   "metadata": {},
   "outputs": [
    {
     "name": "stdout",
     "output_type": "stream",
     "text": [
      "{(0, 0): -1, (0, 1): -1, (1, 0): -1, (1, 1): -1, (2, 0): -1, (2, 1): 1}\n",
      "{(0, 0): 0, (0, 1): -1, (1, 0): -1, (1, 1): -1, (2, 0): -1, (2, 1): 1}\n",
      "{(0, 0): 0, (0, 1): -1, (1, 0): -1, (1, 1): -1, (2, 0): 1, (2, 1): 2}\n",
      "{(0, 0): 2, (0, 1): 0, (1, 0): -1, (1, 1): -1, (2, 0): 1, (2, 1): 2}\n"
     ]
    }
   ],
   "source": [
    "game = GameState()\n",
    "print(game.board)\n",
    "game = game.forecast_move((0,0))\n",
    "print(game.board)\n",
    "game = game.forecast_move((2,0))\n",
    "print(game.board)\n",
    "game = game.forecast_move((0,1))\n",
    "print(game.board)"
   ]
  },
  {
   "cell_type": "code",
   "execution_count": 26,
   "metadata": {},
   "outputs": [
    {
     "name": "stdout",
     "output_type": "stream",
     "text": [
      "['/bin/bash: 1: command not found']\n"
     ]
    }
   ],
   "source": []
  },
  {
   "cell_type": "code",
   "execution_count": null,
   "metadata": {
    "collapsed": true
   },
   "outputs": [],
   "source": []
  }
 ],
 "metadata": {
  "kernelspec": {
   "display_name": "Python 3",
   "language": "python",
   "name": "python3"
  },
  "language_info": {
   "codemirror_mode": {
    "name": "ipython",
    "version": 3
   },
   "file_extension": ".py",
   "mimetype": "text/x-python",
   "name": "python",
   "nbconvert_exporter": "python",
   "pygments_lexer": "ipython3",
   "version": "3.6.1"
  }
 },
 "nbformat": 4,
 "nbformat_minor": 2
}
