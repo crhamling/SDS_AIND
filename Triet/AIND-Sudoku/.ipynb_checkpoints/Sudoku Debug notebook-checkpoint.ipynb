{
 "cells": [
  {
   "cell_type": "code",
   "execution_count": 26,
   "metadata": {
    "collapsed": false
   },
   "outputs": [
    {
     "name": "stdout",
     "output_type": "stream",
     "text": [
      "  1   237   4  | 2357  9   257 |  27   6    8  \n",
      "  9    5    6  |  27   1    8  |  27   3    4  \n",
      "  23  237   8  |  4    37   6  |  9    5    1  \n",
      "---------------+---------------+---------------\n",
      "  5    1   2379| 237  347  279 |  34   8    6  \n",
      "  8    37  379 |  6   347  579 | 345   1    2  \n",
      "  6    4    23 | 1235  8   125 |  35   9    7  \n",
      "---------------+---------------+---------------\n",
      "  7    8    1  |  9    2    3  |  6    4    5  \n",
      "  4    9    5  |  17   6    17 |  8    2    3  \n",
      "  23   6    23 |  8    5    4  |  1    7    9  \n"
     ]
    }
   ],
   "source": [
    "before_naked_twins_1 = {'I6': '4', 'H9': '3', 'I2': '6', 'E8': '1', 'H3': '5', 'H7': '8', 'I7': '1', 'I4': '8',\n",
    "                            'H5': '6', 'F9': '7', 'G7': '6', 'G6': '3', 'G5': '2', 'E1': '8', 'G3': '1', 'G2': '8',\n",
    "                            'G1': '7', 'I1': '23', 'C8': '5', 'I3': '23', 'E5': '347', 'I5': '5', 'C9': '1', 'G9': '5',\n",
    "                            'G8': '4', 'A1': '1', 'A3': '4', 'A2': '237', 'A5': '9', 'A4': '2357', 'A7': '27',\n",
    "                            'A6': '257', 'C3': '8', 'C2': '237', 'C1': '23', 'E6': '579', 'C7': '9', 'C6': '6',\n",
    "                            'C5': '37', 'C4': '4', 'I9': '9', 'D8': '8', 'I8': '7', 'E4': '6', 'D9': '6', 'H8': '2',\n",
    "                            'F6': '125', 'A9': '8', 'G4': '9', 'A8': '6', 'E7': '345', 'E3': '379', 'F1': '6',\n",
    "                            'F2': '4', 'F3': '23', 'F4': '1235', 'F5': '8', 'E2': '37', 'F7': '35', 'F8': '9',\n",
    "                            'D2': '1', 'H1': '4', 'H6': '17', 'H2': '9', 'H4': '17', 'D3': '2379', 'B4': '27',\n",
    "                            'B5': '1', 'B6': '8', 'B7': '27', 'E9': '2', 'B1': '9', 'B2': '5', 'B3': '6', 'D6': '279',\n",
    "                            'D7': '34', 'D4': '237', 'D5': '347', 'B8': '3', 'B9': '4', 'D1': '5'}\n",
    "\n",
    "\n",
    "assignments = []\n",
    "\n",
    "def assign_value(values, box, value):\n",
    "    \"\"\"\n",
    "    Please use this function to update your values dictionary!\n",
    "    Assigns a value to a given box. If it updates the board record it.\n",
    "    \"\"\"\n",
    "\n",
    "    # Don't waste memory appending actions that don't actually change any values\n",
    "    if values[box] == value:\n",
    "        return values\n",
    "\n",
    "    values[box] = value\n",
    "    if len(value) == 1:\n",
    "        assignments.append(values.copy())\n",
    "    return values\n",
    "\n",
    "def display(values):\n",
    "    \"\"\"\n",
    "    Display the values as a 2-D grid.\n",
    "    Args:\n",
    "        values(dict): The sudoku in dictionary form\n",
    "    \"\"\"\n",
    "    width = 1+max(len(values[s]) for s in boxes)\n",
    "    line = '+'.join(['-'*(width*3)]*3)\n",
    "    for r in rows:\n",
    "        print(''.join(values[r+c].center(width)+('|' if c in '36' else '')\n",
    "                      for c in cols))\n",
    "        if r in 'CF': print(line)\n",
    "    return\n",
    "\n",
    "def naked_twins(values):\n",
    "    \"\"\"Eliminate values using the naked twins strategy.\n",
    "    Args:\n",
    "        values(dict): a dictionary of the form {'box_name': '123456789', ...}\n",
    "\n",
    "    Returns:\n",
    "        the values dictionary with the naked twins eliminated from peers.\n",
    "    \"\"\"\n",
    "    # Find all instances of naked twins\n",
    "    twin_values = list()\n",
    "    for box in boxes:\n",
    "        if len(values[box]) == 2:\n",
    "            for peer in peers[box]:\n",
    "                if values[peer] == values[box]:\n",
    "                    twin_values.append(box)\n",
    "    \n",
    "    # Eliminate the naked twins as possibilities for their peers\n",
    "    for box in twin_values:\n",
    "        digits = values[box]\n",
    "        for peer in peers[box]:\n",
    "            for digit in digits:\n",
    "                new_value = values[peer].replace(digit,'')\n",
    "                values = assign_value(values, peer, new_value)\n",
    "    return values\n",
    "\n",
    "rows = 'ABCDEFGHI'\n",
    "cols = '123456789'\n",
    "\n",
    "def cross(A, B):\n",
    "    \"Cross product of elements in A and elements in B.\"\n",
    "    return [s+t for s in A for t in B]\n",
    "\n",
    "def create_diag(A, B):\n",
    "    \"Creates diagonal units given equal length row and col labels.\"\n",
    "    diag_unit = list()\n",
    "    for x in range(len(A)):\n",
    "        diag_unit.append(A[x]+B[x])\n",
    "    return diag_unit\n",
    "\n",
    "boxes = cross(rows, cols)\n",
    "\n",
    "#diagonal units\n",
    "down_diag_unit = create_diag(rows, cols)\n",
    "up_diag_unit = create_diag(rows[::-1], cols)\n",
    "#other units\n",
    "row_units = [cross(r, cols) for r in rows]\n",
    "column_units = [cross(rows, c) for c in cols]\n",
    "square_units = [cross(rs, cs) for rs in ('ABC','DEF','GHI') for cs in ('123','456','789')]\n",
    "unitlist = row_units + column_units + square_units\n",
    "units = dict((s, [u for u in unitlist if s in u]) for s in boxes)\n",
    "peers = dict((s, set(sum(units[s],[]))-set([s])) for s in boxes)\n",
    "\n",
    "display(before_naked_twins_1)\n",
    "#the puzzle"
   ]
  },
  {
   "cell_type": "code",
   "execution_count": 27,
   "metadata": {
    "collapsed": false
   },
   "outputs": [
    {
     "data": {
      "text/plain": [
       "['A7', 'B4', 'B7', 'B7', 'C1', 'F3', 'H4', 'H6', 'I1', 'I1', 'I3', 'I3']"
      ]
     },
     "execution_count": 27,
     "metadata": {},
     "output_type": "execute_result"
    }
   ],
   "source": [
    "#my solution\n",
    "naked_twins(before_naked_twins_1)"
   ]
  },
  {
   "cell_type": "code",
   "execution_count": 19,
   "metadata": {
    "collapsed": false
   },
   "outputs": [
    {
     "name": "stdout",
     "output_type": "stream",
     "text": [
      "  1   237   4  | 2357  9   257 |  27   6    8  \n",
      "  9    5    6  |  27   1    8  |  27   3    4  \n",
      "  23  237   8  |  4    37   6  |  9    5    1  \n",
      "---------------+---------------+---------------\n",
      "  5    1    79 | 237  347  279 |  34   8    6  \n",
      "  8    37   79 |  6   347  579 | 345   1    2  \n",
      "  6    4    23 | 1235  8   125 |  35   9    7  \n",
      "---------------+---------------+---------------\n",
      "  7    8    1  |  9    2    3  |  6    4    5  \n",
      "  4    9    5  |  17   6    17 |  8    2    3  \n",
      "  23   6    23 |  8    5    4  |  1    7    9  \n"
     ]
    }
   ],
   "source": [
    "#solution 1\n",
    "display ({'G7': '6', 'G6': '3', 'G5': '2', 'G4': '9', 'G3': '1', 'G2': '8', 'G1': '7', 'G9': '5', 'G8': '4', 'C9': '1',\n",
    "         'C8': '5', 'C3': '8', 'C2': '237', 'C1': '23', 'C7': '9', 'C6': '6', 'C5': '37', 'A4': '2357', 'A9': '8',\n",
    "         'A8': '6', 'F1': '6', 'F2': '4', 'F3': '23', 'F4': '1235', 'F5': '8', 'F6': '125', 'F7': '35', 'F8': '9',\n",
    "         'F9': '7', 'B4': '27', 'B5': '1', 'B6': '8', 'B7': '27', 'E9': '2', 'B1': '9', 'B2': '5', 'B3': '6', 'C4': '4',\n",
    "         'B8': '3', 'B9': '4', 'I9': '9', 'I8': '7', 'I1': '23', 'I3': '23', 'I2': '6', 'I5': '5', 'I4': '8', 'I7': '1',\n",
    "         'I6': '4', 'A1': '1', 'A3': '4', 'A2': '237', 'A5': '9', 'E8': '1', 'A7': '27', 'A6': '257', 'E5': '347',\n",
    "         'E4': '6', 'E7': '345', 'E6': '579', 'E1': '8', 'E3': '79', 'E2': '37', 'H8': '2', 'H9': '3', 'H2': '9',\n",
    "         'H3': '5', 'H1': '4', 'H6': '17', 'H7': '8', 'H4': '17', 'H5': '6', 'D8': '8', 'D9': '6', 'D6': '279',\n",
    "         'D7': '34', 'D4': '237', 'D5': '347', 'D2': '1', 'D3': '79', 'D1': '5'})"
   ]
  },
  {
   "cell_type": "code",
   "execution_count": 20,
   "metadata": {
    "collapsed": false
   },
   "outputs": [
    {
     "name": "stdout",
     "output_type": "stream",
     "text": [
      "  1   237   4  | 2357  9   257 |  27   6    8  \n",
      "  9    5    6  |  27   1    8  |  27   3    4  \n",
      "  23  237   8  |  4    37   6  |  9    5    1  \n",
      "---------------+---------------+---------------\n",
      "  5    1    79 | 237  347  279 |  34   8    6  \n",
      "  8    3    79 |  6   347  579 | 345   1    2  \n",
      "  6    4    23 | 1235  8   125 |  35   9    7  \n",
      "---------------+---------------+---------------\n",
      "  7    8    1  |  9    2    3  |  6    4    5  \n",
      "  4    9    5  |  17   6    17 |  8    2    3  \n",
      "  23   6    23 |  8    5    4  |  1    7    9  \n"
     ]
    }
   ],
   "source": [
    "#solution 2\n",
    "display({'I6': '4', 'H9': '3', 'I2': '6', 'E8': '1', 'H3': '5', 'H7': '8', 'I7': '1', 'I4': '8', 'H5': '6', 'F9': '7',\n",
    "         'G7': '6', 'G6': '3', 'G5': '2', 'E1': '8', 'G3': '1', 'G2': '8', 'G1': '7', 'I1': '23', 'C8': '5', 'I3': '23',\n",
    "         'E5': '347', 'I5': '5', 'C9': '1', 'G9': '5', 'G8': '4', 'A1': '1', 'A3': '4', 'A2': '237', 'A5': '9',\n",
    "         'A4': '2357', 'A7': '27', 'A6': '257', 'C3': '8', 'C2': '237', 'C1': '23', 'E6': '579', 'C7': '9', 'C6': '6',\n",
    "         'C5': '37', 'C4': '4', 'I9': '9', 'D8': '8', 'I8': '7', 'E4': '6', 'D9': '6', 'H8': '2', 'F6': '125',\n",
    "         'A9': '8', 'G4': '9', 'A8': '6', 'E7': '345', 'E3': '79', 'F1': '6', 'F2': '4', 'F3': '23', 'F4': '1235',\n",
    "         'F5': '8', 'E2': '3', 'F7': '35', 'F8': '9', 'D2': '1', 'H1': '4', 'H6': '17', 'H2': '9', 'H4': '17',\n",
    "         'D3': '79', 'B4': '27', 'B5': '1', 'B6': '8', 'B7': '27', 'E9': '2', 'B1': '9', 'B2': '5', 'B3': '6',\n",
    "         'D6': '279', 'D7': '34', 'D4': '237', 'D5': '347', 'B8': '3', 'B9': '4', 'D1': '5'})"
   ]
  }
 ],
 "metadata": {
  "kernelspec": {
   "display_name": "Python 3",
   "language": "python",
   "name": "python3"
  },
  "language_info": {
   "codemirror_mode": {
    "name": "ipython",
    "version": 3
   },
   "file_extension": ".py",
   "mimetype": "text/x-python",
   "name": "python",
   "nbconvert_exporter": "python",
   "pygments_lexer": "ipython3",
   "version": "3.6.0"
  }
 },
 "nbformat": 4,
 "nbformat_minor": 2
}
